{
 "cells": [
  {
   "cell_type": "markdown",
   "metadata": {},
   "source": [
    "# Task: Build 3 different types of regression lines to predict BTC-USD stock prices\n",
    "https://colab.research.google.com/drive/1FzLCI0AO3c7A4bp9Fi01UwXeoc7BN8sW#scrollTo=547ijRuxZ60f\n",
    "https://github.com/VincentTatan/PythonAnalytics/blob/master/Youtube/Lesson%203%20%20Basic%20Python%20for%20Data%20Analytics%20(Stocks%20Prediction).ipynb\n",
    "- import dependencies\n",
    "- import dataset\n",
    "- make predictions using 3 different types of regression models\n",
    "- plot predictions using matplotlib\n"
   ]
  },
  {
   "cell_type": "code",
   "execution_count": 11,
   "metadata": {
    "scrolled": true
   },
   "outputs": [
    {
     "name": "stdout",
     "output_type": "stream",
     "text": [
      "Requirement already up-to-date: yfinance in /opt/rh/rh-python36/root/usr/lib/python3.6/site-packages (0.1.45)\n",
      "Requirement already satisfied, skipping upgrade: requests>=2.20 in /opt/rh/rh-python36/root/usr/lib/python3.6/site-packages (from yfinance) (2.21.0)\n",
      "Requirement already satisfied, skipping upgrade: pandas>=0.24 in /opt/rh/rh-python36/root/usr/lib64/python3.6/site-packages (from yfinance) (0.24.2)\n",
      "Requirement already satisfied, skipping upgrade: numpy>=1.15 in /opt/rh/rh-python36/root/usr/lib64/python3.6/site-packages (from yfinance) (1.16.3)\n",
      "Requirement already satisfied, skipping upgrade: multitasking>=0.0.7 in /opt/rh/rh-python36/root/usr/lib/python3.6/site-packages (from yfinance) (0.0.9)\n",
      "Requirement already satisfied, skipping upgrade: idna<2.9,>=2.5 in /opt/rh/rh-python36/root/usr/lib/python3.6/site-packages (from requests>=2.20->yfinance) (2.8)\n",
      "Requirement already satisfied, skipping upgrade: certifi>=2017.4.17 in /opt/rh/rh-python36/root/usr/lib/python3.6/site-packages (from requests>=2.20->yfinance) (2019.3.9)\n",
      "Requirement already satisfied, skipping upgrade: chardet<3.1.0,>=3.0.2 in /opt/rh/rh-python36/root/usr/lib/python3.6/site-packages (from requests>=2.20->yfinance) (3.0.4)\n",
      "Requirement already satisfied, skipping upgrade: urllib3<1.25,>=1.21.1 in /opt/rh/rh-python36/root/usr/lib/python3.6/site-packages (from requests>=2.20->yfinance) (1.24.3)\n",
      "Requirement already satisfied, skipping upgrade: python-dateutil>=2.5.0 in /opt/rh/rh-python36/root/usr/lib/python3.6/site-packages (from pandas>=0.24->yfinance) (2.8.0)\n",
      "Requirement already satisfied, skipping upgrade: pytz>=2011k in /opt/rh/rh-python36/root/usr/lib/python3.6/site-packages (from pandas>=0.24->yfinance) (2019.1)\n",
      "Requirement already satisfied, skipping upgrade: six>=1.5 in /opt/rh/rh-python36/root/usr/lib/python3.6/site-packages (from python-dateutil>=2.5.0->pandas>=0.24->yfinance) (1.12.0)\n",
      "\u001b[33mWARNING: You are using pip version 19.1, however version 19.2.3 is available.\n",
      "You should consider upgrading via the 'pip install --upgrade pip' command.\u001b[0m\n",
      "Requirement already satisfied: pandas_datareader in /opt/rh/rh-python36/root/usr/lib/python3.6/site-packages (0.7.4)\n",
      "Requirement already satisfied: pandas>=0.19.2 in /opt/rh/rh-python36/root/usr/lib64/python3.6/site-packages (from pandas_datareader) (0.24.2)\n",
      "Requirement already satisfied: lxml in /opt/rh/rh-python36/root/usr/lib64/python3.6/site-packages (from pandas_datareader) (4.4.1)\n",
      "Requirement already satisfied: requests>=2.3.0 in /opt/rh/rh-python36/root/usr/lib/python3.6/site-packages (from pandas_datareader) (2.21.0)\n",
      "Requirement already satisfied: wrapt in /opt/rh/rh-python36/root/usr/lib64/python3.6/site-packages (from pandas_datareader) (1.11.2)\n",
      "Requirement already satisfied: python-dateutil>=2.5.0 in /opt/rh/rh-python36/root/usr/lib/python3.6/site-packages (from pandas>=0.19.2->pandas_datareader) (2.8.0)\n",
      "Requirement already satisfied: pytz>=2011k in /opt/rh/rh-python36/root/usr/lib/python3.6/site-packages (from pandas>=0.19.2->pandas_datareader) (2019.1)\n",
      "Requirement already satisfied: numpy>=1.12.0 in /opt/rh/rh-python36/root/usr/lib64/python3.6/site-packages (from pandas>=0.19.2->pandas_datareader) (1.16.3)\n",
      "Requirement already satisfied: urllib3<1.25,>=1.21.1 in /opt/rh/rh-python36/root/usr/lib/python3.6/site-packages (from requests>=2.3.0->pandas_datareader) (1.24.3)\n",
      "Requirement already satisfied: certifi>=2017.4.17 in /opt/rh/rh-python36/root/usr/lib/python3.6/site-packages (from requests>=2.3.0->pandas_datareader) (2019.3.9)\n",
      "Requirement already satisfied: chardet<3.1.0,>=3.0.2 in /opt/rh/rh-python36/root/usr/lib/python3.6/site-packages (from requests>=2.3.0->pandas_datareader) (3.0.4)\n",
      "Requirement already satisfied: idna<2.9,>=2.5 in /opt/rh/rh-python36/root/usr/lib/python3.6/site-packages (from requests>=2.3.0->pandas_datareader) (2.8)\n",
      "Requirement already satisfied: six>=1.5 in /opt/rh/rh-python36/root/usr/lib/python3.6/site-packages (from python-dateutil>=2.5.0->pandas>=0.19.2->pandas_datareader) (1.12.0)\n",
      "\u001b[33mWARNING: You are using pip version 19.1, however version 19.2.3 is available.\n",
      "You should consider upgrading via the 'pip install --upgrade pip' command.\u001b[0m\n",
      "Requirement already satisfied: fix_yahoo_finance in /opt/rh/rh-python36/root/usr/lib/python3.6/site-packages (0.1.37)\n",
      "Requirement already satisfied: yfinance in /opt/rh/rh-python36/root/usr/lib/python3.6/site-packages (from fix_yahoo_finance) (0.1.45)\n",
      "Requirement already satisfied: pandas>=0.24 in /opt/rh/rh-python36/root/usr/lib64/python3.6/site-packages (from yfinance->fix_yahoo_finance) (0.24.2)\n",
      "Requirement already satisfied: requests>=2.20 in /opt/rh/rh-python36/root/usr/lib/python3.6/site-packages (from yfinance->fix_yahoo_finance) (2.21.0)\n",
      "Requirement already satisfied: multitasking>=0.0.7 in /opt/rh/rh-python36/root/usr/lib/python3.6/site-packages (from yfinance->fix_yahoo_finance) (0.0.9)\n",
      "Requirement already satisfied: numpy>=1.15 in /opt/rh/rh-python36/root/usr/lib64/python3.6/site-packages (from yfinance->fix_yahoo_finance) (1.16.3)\n",
      "Requirement already satisfied: pytz>=2011k in /opt/rh/rh-python36/root/usr/lib/python3.6/site-packages (from pandas>=0.24->yfinance->fix_yahoo_finance) (2019.1)\n",
      "Requirement already satisfied: python-dateutil>=2.5.0 in /opt/rh/rh-python36/root/usr/lib/python3.6/site-packages (from pandas>=0.24->yfinance->fix_yahoo_finance) (2.8.0)\n",
      "Requirement already satisfied: urllib3<1.25,>=1.21.1 in /opt/rh/rh-python36/root/usr/lib/python3.6/site-packages (from requests>=2.20->yfinance->fix_yahoo_finance) (1.24.3)\n",
      "Requirement already satisfied: chardet<3.1.0,>=3.0.2 in /opt/rh/rh-python36/root/usr/lib/python3.6/site-packages (from requests>=2.20->yfinance->fix_yahoo_finance) (3.0.4)\n",
      "Requirement already satisfied: idna<2.9,>=2.5 in /opt/rh/rh-python36/root/usr/lib/python3.6/site-packages (from requests>=2.20->yfinance->fix_yahoo_finance) (2.8)\n",
      "Requirement already satisfied: certifi>=2017.4.17 in /opt/rh/rh-python36/root/usr/lib/python3.6/site-packages (from requests>=2.20->yfinance->fix_yahoo_finance) (2019.3.9)\n",
      "Requirement already satisfied: six>=1.5 in /opt/rh/rh-python36/root/usr/lib/python3.6/site-packages (from python-dateutil>=2.5.0->pandas>=0.24->yfinance->fix_yahoo_finance) (1.12.0)\n",
      "\u001b[33mWARNING: You are using pip version 19.1, however version 19.2.3 is available.\n",
      "You should consider upgrading via the 'pip install --upgrade pip' command.\u001b[0m\n",
      "Collecting seaborn\n",
      "\u001b[?25l  Downloading https://files.pythonhosted.org/packages/a8/76/220ba4420459d9c4c9c9587c6ce607bf56c25b3d3d2de62056efe482dadc/seaborn-0.9.0-py3-none-any.whl (208kB)\n",
      "\u001b[K     |████████████████████████████████| 215kB 2.6MB/s eta 0:00:01\n",
      "\u001b[?25hRequirement already satisfied: pandas>=0.15.2 in /opt/rh/rh-python36/root/usr/lib64/python3.6/site-packages (from seaborn) (0.24.2)\n",
      "Requirement already satisfied: matplotlib>=1.4.3 in /opt/rh/rh-python36/root/usr/lib64/python3.6/site-packages (from seaborn) (3.0.3)\n",
      "Requirement already satisfied: scipy>=0.14.0 in /opt/rh/rh-python36/root/usr/lib64/python3.6/site-packages (from seaborn) (1.2.1)\n",
      "Requirement already satisfied: numpy>=1.9.3 in /opt/rh/rh-python36/root/usr/lib64/python3.6/site-packages (from seaborn) (1.16.3)\n",
      "Requirement already satisfied: pytz>=2011k in /opt/rh/rh-python36/root/usr/lib/python3.6/site-packages (from pandas>=0.15.2->seaborn) (2019.1)\n",
      "Requirement already satisfied: python-dateutil>=2.5.0 in /opt/rh/rh-python36/root/usr/lib/python3.6/site-packages (from pandas>=0.15.2->seaborn) (2.8.0)\n",
      "Requirement already satisfied: pyparsing!=2.0.4,!=2.1.2,!=2.1.6,>=2.0.1 in /opt/rh/rh-python36/root/usr/lib/python3.6/site-packages (from matplotlib>=1.4.3->seaborn) (2.4.0)\n",
      "Requirement already satisfied: cycler>=0.10 in /opt/rh/rh-python36/root/usr/lib/python3.6/site-packages (from matplotlib>=1.4.3->seaborn) (0.10.0)\n",
      "Requirement already satisfied: kiwisolver>=1.0.1 in /opt/rh/rh-python36/root/usr/lib64/python3.6/site-packages (from matplotlib>=1.4.3->seaborn) (1.1.0)\n",
      "Requirement already satisfied: six>=1.5 in /opt/rh/rh-python36/root/usr/lib/python3.6/site-packages (from python-dateutil>=2.5.0->pandas>=0.15.2->seaborn) (1.12.0)\n",
      "Requirement already satisfied: setuptools in /opt/rh/rh-python36/root/usr/lib/python3.6/site-packages (from kiwisolver>=1.0.1->matplotlib>=1.4.3->seaborn) (36.5.0)\n"
     ]
    },
    {
     "name": "stdout",
     "output_type": "stream",
     "text": [
      "Installing collected packages: seaborn\n",
      "Successfully installed seaborn-0.9.0\n",
      "\u001b[33mWARNING: You are using pip version 19.1, however version 19.2.3 is available.\n",
      "You should consider upgrading via the 'pip install --upgrade pip' command.\u001b[0m\n"
     ]
    }
   ],
   "source": [
    "!source /etc/bashrc; pip3 install yfinance --upgrade\n",
    "!source /etc/bashrc; pip3 install pandas_datareader\n",
    "!source /etc/bashrc; pip3 install fix_yahoo_finance\n",
    "!source /etc/bashrc; pip3 install seaborn"
   ]
  },
  {
   "cell_type": "code",
   "execution_count": 2,
   "metadata": {},
   "outputs": [],
   "source": [
    "# matrix math & data processing\n",
    "import numpy as np\n",
    "# data formatting\n",
    "import pandas as pd\n",
    "\n",
    "# plotting\n",
    "%matplotlib inline\n",
    "import matplotlib as mpl\n",
    "import matplotlib.pyplot as plt\n",
    "from matplotlib import style\n",
    "mpl.rc('figure', figsize = (12,5))\n",
    "# Adjusting the style of matplotlib\n",
    "style.use('ggplot')\n",
    "\n",
    "# import seaborn as sbn\n",
    "\n",
    "from pandas_datareader import data as pdr\n",
    "import yfinance as yf"
   ]
  },
  {
   "cell_type": "code",
   "execution_count": 3,
   "metadata": {},
   "outputs": [
    {
     "data": {
      "text/html": [
       "<div>\n",
       "<style scoped>\n",
       "    .dataframe tbody tr th:only-of-type {\n",
       "        vertical-align: middle;\n",
       "    }\n",
       "\n",
       "    .dataframe tbody tr th {\n",
       "        vertical-align: top;\n",
       "    }\n",
       "\n",
       "    .dataframe thead th {\n",
       "        text-align: right;\n",
       "    }\n",
       "</style>\n",
       "<table border=\"1\" class=\"dataframe\">\n",
       "  <thead>\n",
       "    <tr style=\"text-align: right;\">\n",
       "      <th></th>\n",
       "      <th>High</th>\n",
       "      <th>Low</th>\n",
       "      <th>Open</th>\n",
       "      <th>Close</th>\n",
       "      <th>Volume</th>\n",
       "      <th>Adj Close</th>\n",
       "    </tr>\n",
       "    <tr>\n",
       "      <th>Date</th>\n",
       "      <th></th>\n",
       "      <th></th>\n",
       "      <th></th>\n",
       "      <th></th>\n",
       "      <th></th>\n",
       "      <th></th>\n",
       "    </tr>\n",
       "  </thead>\n",
       "  <tbody>\n",
       "    <tr>\n",
       "      <th>2019-09-02</th>\n",
       "      <td>10773.269531</td>\n",
       "      <td>10296.299805</td>\n",
       "      <td>10387.500000</td>\n",
       "      <td>10625.099609</td>\n",
       "      <td>550564712</td>\n",
       "      <td>10625.099609</td>\n",
       "    </tr>\n",
       "    <tr>\n",
       "      <th>2019-09-03</th>\n",
       "      <td>10827.139648</td>\n",
       "      <td>10392.879883</td>\n",
       "      <td>10625.099609</td>\n",
       "      <td>10585.200195</td>\n",
       "      <td>436210232</td>\n",
       "      <td>10585.200195</td>\n",
       "    </tr>\n",
       "    <tr>\n",
       "      <th>2019-09-04</th>\n",
       "      <td>10659.599609</td>\n",
       "      <td>10475.879883</td>\n",
       "      <td>10585.200195</td>\n",
       "      <td>10556.160156</td>\n",
       "      <td>253210793</td>\n",
       "      <td>10556.160156</td>\n",
       "    </tr>\n",
       "    <tr>\n",
       "      <th>2019-09-05</th>\n",
       "      <td>10938.389648</td>\n",
       "      <td>10228.169922</td>\n",
       "      <td>10556.160156</td>\n",
       "      <td>10309.910156</td>\n",
       "      <td>577987384</td>\n",
       "      <td>10309.910156</td>\n",
       "    </tr>\n",
       "    <tr>\n",
       "      <th>2019-09-06</th>\n",
       "      <td>10574.990234</td>\n",
       "      <td>10304.219727</td>\n",
       "      <td>10309.910156</td>\n",
       "      <td>10491.959961</td>\n",
       "      <td>197436363</td>\n",
       "      <td>10491.959961</td>\n",
       "    </tr>\n",
       "    <tr>\n",
       "      <th>2019-09-07</th>\n",
       "      <td>10595.709961</td>\n",
       "      <td>10286.849609</td>\n",
       "      <td>10491.959961</td>\n",
       "      <td>10420.879883</td>\n",
       "      <td>198370974</td>\n",
       "      <td>10420.879883</td>\n",
       "    </tr>\n",
       "    <tr>\n",
       "      <th>2019-09-08</th>\n",
       "      <td>10514.589844</td>\n",
       "      <td>10101.870117</td>\n",
       "      <td>10420.879883</td>\n",
       "      <td>10314.879883</td>\n",
       "      <td>340516851</td>\n",
       "      <td>10314.879883</td>\n",
       "    </tr>\n",
       "    <tr>\n",
       "      <th>2019-09-09</th>\n",
       "      <td>10395.099609</td>\n",
       "      <td>9966.940430</td>\n",
       "      <td>10314.879883</td>\n",
       "      <td>10109.459961</td>\n",
       "      <td>266382297</td>\n",
       "      <td>10109.459961</td>\n",
       "    </tr>\n",
       "    <tr>\n",
       "      <th>2019-09-10</th>\n",
       "      <td>10251.969727</td>\n",
       "      <td>9874.129883</td>\n",
       "      <td>10109.459961</td>\n",
       "      <td>10155.450195</td>\n",
       "      <td>282901566</td>\n",
       "      <td>10155.450195</td>\n",
       "    </tr>\n",
       "    <tr>\n",
       "      <th>2019-09-12</th>\n",
       "      <td>10240.049805</td>\n",
       "      <td>10057.089844</td>\n",
       "      <td>10165.009766</td>\n",
       "      <td>10211.809570</td>\n",
       "      <td>93934184</td>\n",
       "      <td>10211.809570</td>\n",
       "    </tr>\n",
       "  </tbody>\n",
       "</table>\n",
       "</div>"
      ],
      "text/plain": [
       "                    High           Low          Open         Close     Volume  \\\n",
       "Date                                                                            \n",
       "2019-09-02  10773.269531  10296.299805  10387.500000  10625.099609  550564712   \n",
       "2019-09-03  10827.139648  10392.879883  10625.099609  10585.200195  436210232   \n",
       "2019-09-04  10659.599609  10475.879883  10585.200195  10556.160156  253210793   \n",
       "2019-09-05  10938.389648  10228.169922  10556.160156  10309.910156  577987384   \n",
       "2019-09-06  10574.990234  10304.219727  10309.910156  10491.959961  197436363   \n",
       "2019-09-07  10595.709961  10286.849609  10491.959961  10420.879883  198370974   \n",
       "2019-09-08  10514.589844  10101.870117  10420.879883  10314.879883  340516851   \n",
       "2019-09-09  10395.099609   9966.940430  10314.879883  10109.459961  266382297   \n",
       "2019-09-10  10251.969727   9874.129883  10109.459961  10155.450195  282901566   \n",
       "2019-09-12  10240.049805  10057.089844  10165.009766  10211.809570   93934184   \n",
       "\n",
       "               Adj Close  \n",
       "Date                      \n",
       "2019-09-02  10625.099609  \n",
       "2019-09-03  10585.200195  \n",
       "2019-09-04  10556.160156  \n",
       "2019-09-05  10309.910156  \n",
       "2019-09-06  10491.959961  \n",
       "2019-09-07  10420.879883  \n",
       "2019-09-08  10314.879883  \n",
       "2019-09-09  10109.459961  \n",
       "2019-09-10  10155.450195  \n",
       "2019-09-12  10211.809570  "
      ]
     },
     "execution_count": 3,
     "metadata": {},
     "output_type": "execute_result"
    }
   ],
   "source": [
    "# yf.pdr_override()\n",
    "stock = 'BTC-USD'\n",
    "# stock = 'JPM'\n",
    "df = pdr.get_data_yahoo(stock, start='2010-01-01')#.reset_index()\n",
    "df.to_csv(f'{stock}.csv')#, index=False)\n",
    "# df.head(10)\n",
    "df.tail(10)"
   ]
  },
  {
   "cell_type": "code",
   "execution_count": 4,
   "metadata": {},
   "outputs": [
    {
     "data": {
      "text/plain": [
       "(3345, 6)"
      ]
     },
     "execution_count": 4,
     "metadata": {},
     "output_type": "execute_result"
    }
   ],
   "source": [
    "df.shape"
   ]
  },
  {
   "cell_type": "markdown",
   "metadata": {},
   "source": [
    "## Exploring the data"
   ]
  },
  {
   "cell_type": "code",
   "execution_count": 6,
   "metadata": {},
   "outputs": [
    {
     "data": {
      "image/png": "[encoded data removed]",
      "text/plain": [
       "<Figure size 864x360 with 1 Axes>"
      ]
     },
     "metadata": {},
     "output_type": "display_data"
    }
   ],
   "source": [
    "# df_full = pd.read_csv(f'{stock}.csv')\n",
    "# # df_full.head()\n",
    "\n",
    "# df = df_full.copy()\n",
    "close = df['Adj Close']\n",
    "fig = plt.figure(figsize = (12,5))\n",
    "plt.plot(close, color='r', lw=2.)\n",
    "# plt.plot(close, '^', markersize=10, color='m', label = 'buying signal', markevery = states_buy)\n",
    "# plt.plot(close, 'v', markersize=10, color='k', label = 'selling signal', markevery = states_sell)\n",
    "# plt.title('total gains %f, total investment %f%%'%(total_gains, invest))\n",
    "plt.legend()\n",
    "# plt.savefig('output/'+name+'.png')\n",
    "plt.show()"
   ]
  },
  {
   "cell_type": "markdown",
   "metadata": {},
   "source": [
    "## Code out the Rolling Mean"
   ]
  },
  {
   "cell_type": "code",
   "execution_count": 7,
   "metadata": {},
   "outputs": [
    {
     "data": {
      "image/png": "[encoded data removed]",
      "text/plain": [
       "<Figure size 864x360 with 1 Axes>"
      ]
     },
     "metadata": {},
     "output_type": "display_data"
    }
   ],
   "source": [
    "close_px = df['Adj Close']\n",
    "mavg = close_px.rolling(window=100).mean()\n",
    "# mavg.tail(10)\n",
    "\n",
    "fig = plt.figure(figsize = (12,5))\n",
    "close_px.plot(label=stock)\n",
    "mavg.plot(label='mavg')\n",
    "_ = plt.legend()"
   ]
  },
  {
   "cell_type": "markdown",
   "metadata": {},
   "source": [
    "## Predicting Stocks Price\n",
    "To predict the return of the stocks in the next period - Prediction analysis\n",
    "* Simple Linear Analysis\n",
    "* Quadratic Linear Analysis (QDA)\n",
    "* K Nearest Neighbor (KNN)\n",
    "\n",
    "But first, let us extract the necessary columns first from df:\n",
    "* Adj Close\n",
    "* Adj Volume\n",
    "* HL Percentage\n",
    "* PCT Change"
   ]
  },
  {
   "cell_type": "code",
   "execution_count": 8,
   "metadata": {
    "scrolled": true
   },
   "outputs": [
    {
     "data": {
      "text/html": [
       "<div>\n",
       "<style scoped>\n",
       "    .dataframe tbody tr th:only-of-type {\n",
       "        vertical-align: middle;\n",
       "    }\n",
       "\n",
       "    .dataframe tbody tr th {\n",
       "        vertical-align: top;\n",
       "    }\n",
       "\n",
       "    .dataframe thead th {\n",
       "        text-align: right;\n",
       "    }\n",
       "</style>\n",
       "<table border=\"1\" class=\"dataframe\">\n",
       "  <thead>\n",
       "    <tr style=\"text-align: right;\">\n",
       "      <th></th>\n",
       "      <th>High</th>\n",
       "      <th>Low</th>\n",
       "      <th>Open</th>\n",
       "      <th>Close</th>\n",
       "      <th>Volume</th>\n",
       "      <th>Adj Close</th>\n",
       "    </tr>\n",
       "    <tr>\n",
       "      <th>Date</th>\n",
       "      <th></th>\n",
       "      <th></th>\n",
       "      <th></th>\n",
       "      <th></th>\n",
       "      <th></th>\n",
       "      <th></th>\n",
       "    </tr>\n",
       "  </thead>\n",
       "  <tbody>\n",
       "    <tr>\n",
       "      <th>2010-07-16</th>\n",
       "      <td>0.04951</td>\n",
       "      <td>0.04951</td>\n",
       "      <td>0.04951</td>\n",
       "      <td>0.04951</td>\n",
       "      <td>0</td>\n",
       "      <td>0.04951</td>\n",
       "    </tr>\n",
       "    <tr>\n",
       "      <th>2010-07-17</th>\n",
       "      <td>0.08585</td>\n",
       "      <td>0.05941</td>\n",
       "      <td>0.04951</td>\n",
       "      <td>0.08584</td>\n",
       "      <td>5</td>\n",
       "      <td>0.08584</td>\n",
       "    </tr>\n",
       "    <tr>\n",
       "      <th>2010-07-18</th>\n",
       "      <td>0.09307</td>\n",
       "      <td>0.07723</td>\n",
       "      <td>0.08584</td>\n",
       "      <td>0.08080</td>\n",
       "      <td>49</td>\n",
       "      <td>0.08080</td>\n",
       "    </tr>\n",
       "    <tr>\n",
       "      <th>2010-07-19</th>\n",
       "      <td>0.08181</td>\n",
       "      <td>0.07426</td>\n",
       "      <td>0.08080</td>\n",
       "      <td>0.07474</td>\n",
       "      <td>20</td>\n",
       "      <td>0.07474</td>\n",
       "    </tr>\n",
       "    <tr>\n",
       "      <th>2010-07-20</th>\n",
       "      <td>0.07921</td>\n",
       "      <td>0.06634</td>\n",
       "      <td>0.07474</td>\n",
       "      <td>0.07921</td>\n",
       "      <td>42</td>\n",
       "      <td>0.07921</td>\n",
       "    </tr>\n",
       "  </tbody>\n",
       "</table>\n",
       "</div>"
      ],
      "text/plain": [
       "               High      Low     Open    Close  Volume  Adj Close\n",
       "Date                                                             \n",
       "2010-07-16  0.04951  0.04951  0.04951  0.04951       0    0.04951\n",
       "2010-07-17  0.08585  0.05941  0.04951  0.08584       5    0.08584\n",
       "2010-07-18  0.09307  0.07723  0.08584  0.08080      49    0.08080\n",
       "2010-07-19  0.08181  0.07426  0.08080  0.07474      20    0.07474\n",
       "2010-07-20  0.07921  0.06634  0.07474  0.07921      42    0.07921"
      ]
     },
     "execution_count": 8,
     "metadata": {},
     "output_type": "execute_result"
    }
   ],
   "source": [
    "df.head()"
   ]
  },
  {
   "cell_type": "code",
   "execution_count": 9,
   "metadata": {},
   "outputs": [
    {
     "data": {
      "text/html": [
       "<div>\n",
       "<style scoped>\n",
       "    .dataframe tbody tr th:only-of-type {\n",
       "        vertical-align: middle;\n",
       "    }\n",
       "\n",
       "    .dataframe tbody tr th {\n",
       "        vertical-align: top;\n",
       "    }\n",
       "\n",
       "    .dataframe thead th {\n",
       "        text-align: right;\n",
       "    }\n",
       "</style>\n",
       "<table border=\"1\" class=\"dataframe\">\n",
       "  <thead>\n",
       "    <tr style=\"text-align: right;\">\n",
       "      <th></th>\n",
       "      <th>Adj Close</th>\n",
       "      <th>Volume</th>\n",
       "      <th>HL_PCT</th>\n",
       "      <th>PCT_change</th>\n",
       "    </tr>\n",
       "    <tr>\n",
       "      <th>Date</th>\n",
       "      <th></th>\n",
       "      <th></th>\n",
       "      <th></th>\n",
       "      <th></th>\n",
       "    </tr>\n",
       "  </thead>\n",
       "  <tbody>\n",
       "    <tr>\n",
       "      <th>2010-07-16</th>\n",
       "      <td>0.04951</td>\n",
       "      <td>0</td>\n",
       "      <td>0.000000</td>\n",
       "      <td>0.000000</td>\n",
       "    </tr>\n",
       "    <tr>\n",
       "      <th>2010-07-17</th>\n",
       "      <td>0.08584</td>\n",
       "      <td>5</td>\n",
       "      <td>30.801493</td>\n",
       "      <td>73.379124</td>\n",
       "    </tr>\n",
       "    <tr>\n",
       "      <th>2010-07-18</th>\n",
       "      <td>0.08080</td>\n",
       "      <td>49</td>\n",
       "      <td>19.603963</td>\n",
       "      <td>-5.871394</td>\n",
       "    </tr>\n",
       "    <tr>\n",
       "      <th>2010-07-19</th>\n",
       "      <td>0.07474</td>\n",
       "      <td>20</td>\n",
       "      <td>10.101687</td>\n",
       "      <td>-7.499996</td>\n",
       "    </tr>\n",
       "    <tr>\n",
       "      <th>2010-07-20</th>\n",
       "      <td>0.07921</td>\n",
       "      <td>42</td>\n",
       "      <td>16.247947</td>\n",
       "      <td>5.980731</td>\n",
       "    </tr>\n",
       "  </tbody>\n",
       "</table>\n",
       "</div>"
      ],
      "text/plain": [
       "            Adj Close  Volume     HL_PCT  PCT_change\n",
       "Date                                                \n",
       "2010-07-16    0.04951       0   0.000000    0.000000\n",
       "2010-07-17    0.08584       5  30.801493   73.379124\n",
       "2010-07-18    0.08080      49  19.603963   -5.871394\n",
       "2010-07-19    0.07474      20  10.101687   -7.499996\n",
       "2010-07-20    0.07921      42  16.247947    5.980731"
      ]
     },
     "execution_count": 9,
     "metadata": {},
     "output_type": "execute_result"
    }
   ],
   "source": [
    "dfreg = df.loc[:,['Adj Close','Volume']]\n",
    "dfreg['HL_PCT'] = (df['High'] - df['Low']) / df['Close'] * 100.0\n",
    "dfreg['PCT_change'] = (df['Close'] - df['Open']) / df['Open'] * 100.0\n",
    "dfreg.head()"
   ]
  },
  {
   "cell_type": "code",
   "execution_count": 10,
   "metadata": {
    "scrolled": true
   },
   "outputs": [
    {
     "name": "stdout",
     "output_type": "stream",
     "text": [
      "(3345, 4)\n",
      "Dimension of X (3311, 4)\n",
      "Dimension of y (3311,)\n"
     ]
    },
    {
     "name": "stderr",
     "output_type": "stream",
     "text": [
      "/opt/rh/rh-python36/root/usr/lib64/python3.6/site-packages/sklearn/preprocessing/data.py:180: UserWarning: Numerical issues were encountered when centering the data and might not be solved. Dataset may contain too large values. You may need to prescale your features.\n",
      "  warnings.warn(\"Numerical issues were encountered \"\n"
     ]
    }
   ],
   "source": [
    "import math\n",
    "import numpy as np\n",
    "from sklearn import preprocessing, svm\n",
    "from sklearn.model_selection import train_test_split\n",
    "\n",
    "# Drop missing value\n",
    "dfreg.fillna(value=-99999, inplace=True)\n",
    "\n",
    "print(dfreg.shape)\n",
    "# We want to separate 1 percent of the data to forecast\n",
    "forecast_out = int(math.ceil(0.01 * len(dfreg)))\n",
    "\n",
    "# Separating the label here, we want to predict the AdjClose\n",
    "forecast_col = 'Adj Close'\n",
    "dfreg['label'] = dfreg[forecast_col].shift(-forecast_out)\n",
    "X = np.array(dfreg.drop(['label'], 1))\n",
    "\n",
    "# Scale the X so that everyone can have the same distribution for linear regression\n",
    "X = preprocessing.scale(X)\n",
    "\n",
    "# Finally We want to find Data Series of late X and early X (train) for model generation and evaluation\n",
    "X_lately = X[-forecast_out:]\n",
    "X = X[:-forecast_out]\n",
    "\n",
    "# Separate label and identify it as y\n",
    "y = np.array(dfreg['label'])\n",
    "y = y[:-forecast_out]\n",
    "\n",
    "print('Dimension of X',X.shape)\n",
    "print('Dimension of y',y.shape)"
   ]
  },
  {
   "cell_type": "code",
   "execution_count": 11,
   "metadata": {},
   "outputs": [],
   "source": [
    "# Separation of training and testing of model by cross validation train test split\n",
    "X_train, X_test, y_train, y_test = train_test_split(X, y, test_size=0.2)"
   ]
  },
  {
   "cell_type": "markdown",
   "metadata": {},
   "source": [
    "## Model Generation\n",
    "\n",
    "* To predict the return of the stocks in the next period - Prediction analysis\n",
    "    * Simple Linear Analysis\n",
    "    * Quadratic Linear Analysis (QDA)\n",
    "    * K Nearest Neighbor (KNN)"
   ]
  },
  {
   "cell_type": "code",
   "execution_count": 13,
   "metadata": {},
   "outputs": [
    {
     "name": "stdout",
     "output_type": "stream",
     "text": [
      "model_linear_score 0.8639267659202314\n",
      "model_ridge_score 0.8639222753116906\n",
      "model_lasso_score 0.8639207001743818\n",
      "model_sgd_score 0.8540921988698004\n",
      "Quadratic Regression 2 score 0.8830839134492329\n",
      "Quadratic Regression 3 score 0.8322843457877164\n",
      "KNN Regression score 0.8855103406560308\n"
     ]
    },
    {
     "name": "stderr",
     "output_type": "stream",
     "text": [
      "/opt/rh/rh-python36/root/usr/lib64/python3.6/site-packages/sklearn/linear_model/stochastic_gradient.py:183: FutureWarning: max_iter and tol parameters have been added in SGDRegressor in 0.19. If max_iter is set but tol is left unset, the default value for tol in 0.19 and 0.20 will be None (which is equivalent to -infinity, so it has no effect) but will change in 0.21 to 1e-3. Specify tol to silence this warning.\n",
      "  FutureWarning)\n"
     ]
    }
   ],
   "source": [
    "# from sklearn.linear_model import LinearRegression\n",
    "from sklearn.neighbors import KNeighborsRegressor\n",
    "\n",
    "from sklearn.linear_model import LinearRegression, Ridge, Lasso, SGDRegressor\n",
    "from sklearn.preprocessing import PolynomialFeatures\n",
    "from sklearn.pipeline import make_pipeline\n",
    "\n",
    "# Linear regression\n",
    "model_linear = LinearRegression(n_jobs=-1)\n",
    "model_linear.fit(X_train, y_train)\n",
    "model_linear_score = model_linear.score(X_test, y_test)\n",
    "print(\"model_linear_score\", model_linear_score)\n",
    "\n",
    "# Ridge\n",
    "model_ridge = Ridge()\n",
    "model_ridge.fit(X_train, y_train)\n",
    "model_ridge_score = model_ridge.score(X_test, y_test)\n",
    "print(\"model_ridge_score\", model_ridge_score)\n",
    "\n",
    "# Lasso\n",
    "model_lasso = Lasso()\n",
    "model_lasso.fit(X_train, y_train)\n",
    "model_lasso_score = model_lasso.score(X_test, y_test)\n",
    "print(\"model_lasso_score\", model_lasso_score)\n",
    "\n",
    "# SGD\n",
    "model_sgd = make_pipeline(SGDRegressor(max_iter=50, penalty=None, eta0=0.1))\n",
    "model_sgd.fit(X_train, y_train)\n",
    "model_sgd_score = model_sgd.score(X_test, y_test)\n",
    "print(\"model_sgd_score\", model_sgd_score)\n",
    "\n",
    "# Quadratic Regression 2\n",
    "clfpoly2 = make_pipeline(PolynomialFeatures(2), Ridge())\n",
    "clfpoly2.fit(X_train, y_train)\n",
    "clfpoly2_score = clfpoly2.score(X_test, y_test)\n",
    "print(\"Quadratic Regression 2 score\", clfpoly2_score)\n",
    "\n",
    "# Quadratic Regression 3\n",
    "clfpoly3 = make_pipeline(PolynomialFeatures(3), Ridge())\n",
    "clfpoly3.fit(X_train, y_train)\n",
    "clfpoly3_score = clfpoly3.score(X_test, y_test)\n",
    "print(\"Quadratic Regression 3 score\", clfpoly3_score)\n",
    "\n",
    "# KNN Regression\n",
    "clfknn = KNeighborsRegressor(n_neighbors=2)\n",
    "clfknn.fit(X_train, y_train)\n",
    "clfknn_score = clfknn.score(X_test, y_test)\n",
    "print(\"KNN Regression score\", clfknn_score)"
   ]
  },
  {
   "cell_type": "markdown",
   "metadata": {},
   "source": [
    "## Evaluation\n",
    "A simple quick and dirty way to evaluate is to use the score method in each trained model. The score method finds the mean accuracy of self.predict(X) with y of the test data set."
   ]
  },
  {
   "cell_type": "markdown",
   "metadata": {},
   "source": [
    "### This means that this time the knn regression holds the most accuracy"
   ]
  },
  {
   "cell_type": "markdown",
   "metadata": {},
   "source": [
    "## Plotting the Prediction\n",
    "Based on the forecast, we will visualize the plot with our existing historical data. This will help us visualize how the model fares to predict future stocks pricing."
   ]
  },
  {
   "cell_type": "code",
   "execution_count": 17,
   "metadata": {},
   "outputs": [
    {
     "name": "stdout",
     "output_type": "stream",
     "text": [
      "[10253.33007812 10538.58007812  9821.43994141 10253.33007812\n",
      " 11097.51513672  8793.12988281  9944.40527344  9696.45019531\n",
      "  9696.45019531 10605.14990234  9821.43994141  9976.08007812\n",
      "  9936.45019531 10154.01513672  9959.21533203  9696.45019531\n",
      " 10538.58007812  9630.58496094  9976.08007812 10718.\n",
      "  9696.45019531 11121.09521484 10551.54541016 10605.14990234\n",
      "  9971.12988281 10321.01513672  9630.58496094 10122.93017578\n",
      "  9558.67480469  9630.58496094  9821.43994141  9630.58496094\n",
      "  9630.58496094  9558.67480469]\n"
     ]
    },
    {
     "data": {
      "image/png": "[encoded data removed]",
      "text/plain": [
       "<Figure size 864x360 with 1 Axes>"
      ]
     },
     "metadata": {},
     "output_type": "display_data"
    }
   ],
   "source": [
    "import datetime\n",
    "\n",
    "dfreg_forecast = dfreg.copy()\n",
    "\n",
    "# Printing the forecast\n",
    "forecast_set = clfknn.predict(X_lately)\n",
    "dfreg_forecast['Forecast'] = np.nan\n",
    "print(forecast_set)\n",
    "# print(forecast_set, confidence, forecast_out)\n",
    "\n",
    "last_date = dfreg_forecast.iloc[-1].name\n",
    "last_unix = last_date\n",
    "next_unix = last_unix + datetime.timedelta(days=1)\n",
    "\n",
    "for i in forecast_set:\n",
    "    next_date = next_unix\n",
    "    next_unix += datetime.timedelta(days=1)\n",
    "    dfreg_forecast.loc[next_date] = [np.nan for _ in range(len(dfreg_forecast.columns)-1)]+[i]\n",
    "    \n",
    "dfreg_forecast['Adj Close'].tail(500).plot()\n",
    "dfreg_forecast['Forecast'].tail(500).plot()\n",
    "plt.legend(loc=4)\n",
    "plt.xlabel('Date')\n",
    "plt.ylabel('Price')\n",
    "plt.savefig(f'{stock}-forecast.png')\n",
    "plt.show()"
   ]
  },
  {
   "cell_type": "markdown",
   "metadata": {},
   "source": [
    "## Agents notes\n",
    "\n",
    "### Based on predefined threshold values\n",
    "- Turtle Trading agent\n",
    "- Moving Average agent\n",
    "- Signal Rolling agent\n",
    "\n",
    "### Pure reinforcement learning\n",
    "- Policy Gradient agent\n",
    "- Q-learning agent - Super interesting :)\n",
    "\n",
    "### Evolutionary strategies\n",
    "- Evolution Strategy agent\n",
    "\n",
    "### Deep Reinforcement learning\n",
    "- Double Q-learning agent\n",
    "- Recurrent Q-learning agent\n",
    "- Double Recurrent Q-learning agent\n",
    "- Duel Q-learning agent\n",
    "- Double Duel Q-learning agent\n",
    "- Duel Recurrent Q-learning agent\n",
    "- Double Duel Recurrent Q-learning agent\n",
    "- Actor-critic agent\n",
    "- Actor-critic Duel agent\n",
    "- Actor-critic Recurrent agent\n",
    "- Actor-critic Duel Recurrent agent\n",
    "- Curiosity Q-learning agent\n",
    "- Recurrent Curiosity Q-learning agent\n",
    "- Duel Curiosity Q-learning agent\n",
    "- Neuro-evolution agent\n",
    "- Neuro-evolution with Novelty search agent\n",
    "- ABCD strategy agent\n",
    "- Deep Evolution Strategy"
   ]
  }
 ],
 "metadata": {
  "kernelspec": {
   "display_name": "Python 3",
   "language": "python",
   "name": "python3"
  },
  "language_info": {
   "codemirror_mode": {
    "name": "ipython",
    "version": 3
   },
   "file_extension": ".py",
   "mimetype": "text/x-python",
   "name": "python",
   "nbconvert_exporter": "python",
   "pygments_lexer": "ipython3",
   "version": "3.6.3"
  }
 },
 "nbformat": 4,
 "nbformat_minor": 2
}
